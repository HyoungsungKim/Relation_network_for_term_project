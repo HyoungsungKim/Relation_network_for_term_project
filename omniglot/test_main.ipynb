{
 "cells": [
  {
   "cell_type": "code",
   "execution_count": 1,
   "metadata": {},
   "outputs": [],
   "source": [
    "import torch\n",
    "import numpy as np\n",
    "import task_generator_no_args as tg\n",
    "import omniglot_train_few_shot_no_args as ot\n",
    "import os\n",
    "import argparse\n",
    "import random\n",
    "import scipy as sp\n",
    "import scipy.stats"
   ]
  },
  {
   "cell_type": "code",
   "execution_count": 2,
   "metadata": {},
   "outputs": [],
   "source": [
    "FEATURE_DIM = 64  # args.feature_dim\n",
    "RELATION_DIM = 8  # args.relation_dim\n",
    "CLASS_NUM = 5  # args.class_num\n",
    "SAMPLE_NUM_PER_CLASS = 5  # args.sample_num_per_class\n",
    "BATCH_NUM_PER_CLASS = 15  # args.batch_num_per_class\n",
    "EPISODE = 1000000  # args.episode\n",
    "TEST_EPISODE = 1000  # args.test_episode\n",
    "LEARNING_RATE = 0.001  # args.learning_rate\n",
    "# GPU = # args.gpu\n",
    "HIDDEN_UNIT = 10  # args.hidden_unit\n",
    "device = torch.device('cuda' if torch.cuda.is_available() else 'cpu')"
   ]
  },
  {
   "cell_type": "code",
   "execution_count": 3,
   "metadata": {},
   "outputs": [],
   "source": [
    "def mean_confidence_interval(data, confidence=0.95):\n",
    "    a = 1.0 * np.array(data)\n",
    "    n = len(a)\n",
    "    m, se = np.mean(a), scipy.stats.sem(a)\n",
    "    h = se * sp.stats.t._ppf((1 + confidence) / 2, n - 1)\n",
    "    return m, h"
   ]
  },
  {
   "cell_type": "code",
   "execution_count": 4,
   "metadata": {},
   "outputs": [
    {
     "output_type": "stream",
     "name": "stdout",
     "text": "init data folders\ninit neural networks\nload feature encoder success\nload relation network success\n"
    }
   ],
   "source": [
    "# * Step 1: init data folders\n",
    "print(\"init data folders\")\n",
    "\n",
    "# * init character folders for dataset construction\n",
    "metartrain_character_folders, metatest_character_folders = tg.omniglot_character_folders()\n",
    "\n",
    "# * Step 2: init neural networks\n",
    "print(\"init neural networks\")\n",
    "\n",
    "feature_encoder = ot.CNNEncoder().to(device)\n",
    "relation_network = ot.RelationNetwork(FEATURE_DIM, RELATION_DIM).to(device)\n",
    "\n",
    "feature_encoder.eval()\n",
    "relation_network.eval()    \n",
    "\n",
    "if os.path.exists(str(\"./models/omniglot_feature_encoder_\" + str(CLASS_NUM) + \"way_\" + str(SAMPLE_NUM_PER_CLASS) + \"shot.pkl\")):\n",
    "    feature_encoder.load_state_dict(torch.load(str(\"./models/omniglot_feature_encoder_\" + str(CLASS_NUM) + \"way_\" + str(SAMPLE_NUM_PER_CLASS) + \"shot.pkl\")))\n",
    "    print(\"load feature encoder success\")\n",
    "    \n",
    "if os.path.exists(str(\"./models/omniglot_relation_network_\" + str(CLASS_NUM) + \"way_\" + str(SAMPLE_NUM_PER_CLASS) + \"shot.pkl\")):\n",
    "    relation_network.load_state_dict(torch.load(str(\"./models/omniglot_relation_network_\" + str(CLASS_NUM) + \"way_\" + str(SAMPLE_NUM_PER_CLASS) + \"shot.pkl\")))\n",
    "    print(\"load relation network success\")"
   ]
  },
  {
   "cell_type": "code",
   "execution_count": 5,
   "metadata": {},
   "outputs": [
    {
     "output_type": "stream",
     "name": "stdout",
     "text": "Testing...\ntest accuracy : 0.98776, h : 0.0015908764550137994\nTesting...\ntest accuracy : 0.98692, h : 0.001713514132367999\nTesting...\ntest accuracy : 0.98876, h : 0.0014734900801897494\naverage accuracy : 0.988\n"
    }
   ],
   "source": [
    "total_accuracy = 0.0\n",
    "for episode in range(3):\n",
    "    # * test\n",
    "    print(\"Testing...\")\n",
    "    total_rewards = 0\n",
    "    accuracies = []\n",
    "    \n",
    "    for i in range(TEST_EPISODE):\n",
    "        degrees = random.choice([0, 90, 180, 270])\n",
    "        task = tg.OmniglotTask(metatest_character_folders, CLASS_NUM, SAMPLE_NUM_PER_CLASS, SAMPLE_NUM_PER_CLASS)\n",
    "        \n",
    "        sample_dataloader = tg.get_data_loader(task, num_per_class=SAMPLE_NUM_PER_CLASS, split=\"train\", shuffle=False, rotation=degrees)\n",
    "        test_dataloader = tg.get_data_loader(task, num_per_class=SAMPLE_NUM_PER_CLASS, split=\"test\", shuffle=True, rotation=degrees)\n",
    "        \n",
    "        sample_images, sample_labels = next(iter(sample_dataloader))\n",
    "        test_images, test_labels = next(iter(test_dataloader))\n",
    "\n",
    "        sample_images, sample_labels = sample_images.to(device), sample_labels.to(device)\n",
    "        test_images, test_labels = test_images.to(device), test_labels.to(device)\n",
    "        \n",
    "        # * Calculate features\n",
    "        sample_features = feature_encoder(sample_images)            \n",
    "        sample_features = sample_features.view(CLASS_NUM, SAMPLE_NUM_PER_CLASS, FEATURE_DIM, 5, 5)\n",
    "        sample_features = torch.sum(sample_features, 1).squeeze(1)\n",
    "        test_features = feature_encoder(test_images)\n",
    "        \n",
    "        sample_features_ext = sample_features.unsqueeze(0).repeat(SAMPLE_NUM_PER_CLASS * CLASS_NUM, 1, 1, 1, 1)\n",
    "        test_features_ext = test_features.unsqueeze(0).repeat(CLASS_NUM, 1, 1, 1, 1)\n",
    "        test_features_ext = torch.transpose(test_features_ext, 0, 1)\n",
    "        \n",
    "        relation_pairs = torch.cat((sample_features_ext, test_features_ext), 2).view(-1, FEATURE_DIM * 2, 5, 5)\n",
    "        relations = relation_network(relation_pairs).view(-1, CLASS_NUM)\n",
    "        \n",
    "        _, predict_labels = torch.max(relations.data, 1)\n",
    "        \n",
    "        rewards = [1 if predict_labels[j] == test_labels[j] else 0 for j in range(CLASS_NUM * SAMPLE_NUM_PER_CLASS)]\n",
    "        \n",
    "        total_rewards += np.sum(rewards)\n",
    "        accuracy = np.sum(rewards) / (1.0 * CLASS_NUM * SAMPLE_NUM_PER_CLASS)\n",
    "        accuracies.append(accuracy)\n",
    "        \n",
    "    test_accuracy, h = mean_confidence_interval(accuracies)\n",
    "    \n",
    "    print(f'test accuracy : {test_accuracy}, h : {h}')\n",
    "    total_accuracy += test_accuracy\n",
    "    \n",
    "print(f\"average accuracy : {total_accuracy / 3 :.3}\")"
   ]
  },
  {
   "cell_type": "code",
   "execution_count": null,
   "metadata": {},
   "outputs": [],
   "source": []
  }
 ],
 "metadata": {
  "language_info": {
   "codemirror_mode": {
    "name": "ipython",
    "version": 3
   },
   "file_extension": ".py",
   "mimetype": "text/x-python",
   "name": "python",
   "nbconvert_exporter": "python",
   "pygments_lexer": "ipython3",
   "version": "3.8.2-final"
  },
  "orig_nbformat": 2,
  "kernelspec": {
   "name": "python38164bit66f7a8720ea44564891eb6b9b39e6c03",
   "display_name": "Python 3.8.1 64-bit"
  }
 },
 "nbformat": 4,
 "nbformat_minor": 2
}