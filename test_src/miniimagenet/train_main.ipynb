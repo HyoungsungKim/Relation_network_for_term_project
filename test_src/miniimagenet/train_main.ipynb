{
 "cells": [
  {
   "cell_type": "code",
   "execution_count": 1,
   "metadata": {},
   "outputs": [],
   "source": [
    "import miniimagenet_train_few_shot_with_one_hot_vector as ot\n",
    "import task_generator as tg\n",
    "import torch\n",
    "import torch.nn as nn\n",
    "import random\n",
    "import matplotlib.pyplot as plt\n",
    "import numpy as np\n",
    "device = torch.device('cuda' if torch.cuda.is_available() else 'cpu')    "
   ]
  },
  {
   "cell_type": "code",
   "execution_count": 2,
   "metadata": {},
   "outputs": [],
   "source": [
    "FEATURE_DIM = 64  # args.feature_dim\n",
    "RELATION_DIM = 8  # args.relation_dim\n",
    "CLASS_NUM = 5  # args.class_num\n",
    "SAMPLE_NUM_PER_CLASS = 5  # args.sample_num_per_class\n",
    "BATCH_NUM_PER_CLASS = 15  # args.batch_num_per_class\n",
    "EPISODE = 1000000  # args.episode\n",
    "TEST_EPISODE = 1000  # args.test_episode\n",
    "LEARNING_RATE = 0.001  # args.learning_rate\n",
    "# GPU = # args.gpu\n",
    "HIDDEN_UNIT = 10  # args.hidden_unit"
   ]
  },
  {
   "cell_type": "markdown",
   "metadata": {},
   "source": [
    "# Test just 1 iteration to know how it works"
   ]
  },
  {
   "cell_type": "code",
   "execution_count": 3,
   "metadata": {},
   "outputs": [
    {
     "output_type": "stream",
     "name": "stdout",
     "text": "init data folders\n"
    }
   ],
   "source": [
    "# * Step 1: init data folders\n",
    "print(\"init data folders\")\n",
    "\n",
    "# * Init character folders for dataset construction\n",
    "metatrain_character_folders, metatest_character_folders = tg.mini_imagenet_folders()"
   ]
  },
  {
   "cell_type": "code",
   "execution_count": 4,
   "metadata": {},
   "outputs": [
    {
     "output_type": "stream",
     "name": "stdout",
     "text": "init neural networks\n"
    }
   ],
   "source": [
    "print(\"init neural networks\")\n",
    "\n",
    "feature_encoder = ot.CNNEncoder()\n",
    "relation_network = ot.RelationNetwork(FEATURE_DIM, RELATION_DIM)\n",
    "\n",
    "feature_encoder.train()\n",
    "relation_network.train()\n",
    "\n",
    "feature_encoder.apply(ot.weights_init)\n",
    "relation_network.apply(ot.weights_init)\n",
    "\n",
    "feature_encoder.to(device)\n",
    "relation_network.to(device)\n",
    "    \n",
    "feature_encoder_optim = torch.optim.Adam(feature_encoder.parameters(), lr=LEARNING_RATE)\n",
    "#feature_encoder_scheduler = StepLR(feature_encoder_optim, step_size=100000, gamma=0.5)\n",
    "\n",
    "relation_network_optim = torch.optim.Adam(relation_network.parameters(), lr=LEARNING_RATE)\n",
    "#relation_network_scheduler = StepLR(relation_network_optim, step_size=100000, gamma=0.5)\n",
    "\n",
    "if os.path.exists(str(\"./models/omniglot_feature_encoder_\" + str(CLASS_NUM) + \"way_\" + str(SAMPLE_NUM_PER_CLASS) + \"shot.pkl\")):\n",
    "    feature_encoder.load_state_dict(torch.load(str(\"./models/miniimagenet_feature_encoder_\" + str(CLASS_NUM) + \"way_\" + str(SAMPLE_NUM_PER_CLASS) + \"shot.pkl\")))\n",
    "    print(\"load feature encoder success\")\n",
    "if os.path.exists(str(\"./models/omniglot_relation_network_\" + str(CLASS_NUM) + \"way_\" + str(SAMPLE_NUM_PER_CLASS) + \"shot.pkl\")):\n",
    "    relation_network.load_state_dict(torch.load(str(\"./models/miniimagenet_relation_network_\" + str(CLASS_NUM) + \"way_\" + str(SAMPLE_NUM_PER_CLASS) + \"shot.pkl\")))\n",
    "    print(\"load relation network success\")"
   ]
  },
  {
   "cell_type": "code",
   "execution_count": 20,
   "metadata": {},
   "outputs": [],
   "source": [
    "task = tg.MiniImagenetTask(metatrain_character_folders, CLASS_NUM, SAMPLE_NUM_PER_CLASS, 15)\n",
    "sample_dataloader = tg.get_mini_imagenet_data_loader(task, num_per_class=SAMPLE_NUM_PER_CLASS, split=\"train\", shuffle=False)\n",
    "batch_dataloader = tg.get_mini_imagenet_data_loader(task, num_per_class=5, split=\"test\", shuffle=False)\n",
    "\n",
    "# * sample datas\n",
    "# samples, sample_labels = sample_dataloader.__iter__().next()\n",
    "# batches, batch_labels = batch_dataloader.__iter__().next()\n",
    "\n",
    "samples, sample_labels = next(iter(sample_dataloader))\n",
    "batches, batch_labels = next(iter(batch_dataloader))\n",
    "\n",
    "samples, sample_labels = samples.to(device), sample_labels.to(device)\n",
    "batches, batch_labels = batches.to(device), batch_labels.to(device)"
   ]
  },
  {
   "cell_type": "code",
   "execution_count": 24,
   "metadata": {},
   "outputs": [],
   "source": [
    "batches, batch_labels = next(iter(batch_dataloader))\n",
    "print(batch_labels)"
   ]
  },
  {
   "cell_type": "code",
   "execution_count": 13,
   "metadata": {},
   "outputs": [
    {
     "output_type": "stream",
     "name": "stdout",
     "text": "torch.Size([25, 3, 84, 84])\n"
    }
   ],
   "source": [
    "print(samples.shape)"
   ]
  },
  {
   "cell_type": "code",
   "execution_count": 14,
   "metadata": {},
   "outputs": [
    {
     "output_type": "stream",
     "name": "stdout",
     "text": "torch.Size([25])\n"
    }
   ],
   "source": [
    "print(sample_labels.shape)"
   ]
  },
  {
   "cell_type": "code",
   "execution_count": 15,
   "metadata": {},
   "outputs": [
    {
     "output_type": "stream",
     "name": "stdout",
     "text": "torch.Size([25, 3, 84, 84])\n"
    }
   ],
   "source": [
    "print(batches.shape)"
   ]
  },
  {
   "cell_type": "code",
   "execution_count": 16,
   "metadata": {},
   "outputs": [
    {
     "output_type": "stream",
     "name": "stdout",
     "text": "torch.Size([25])\n"
    }
   ],
   "source": [
    "print(batch_labels.shape)"
   ]
  },
  {
   "cell_type": "code",
   "execution_count": 17,
   "metadata": {},
   "outputs": [
    {
     "output_type": "stream",
     "name": "stdout",
     "text": "tensor([0, 0, 0, 0, 0, 1, 1, 1, 1, 1, 2, 2, 2, 2, 2, 3, 3, 3, 3, 3, 4, 4, 4, 4,\n        4], device='cuda:0')\n"
    }
   ],
   "source": [
    "print(batch_labels)"
   ]
  },
  {
   "cell_type": "code",
   "execution_count": 18,
   "metadata": {},
   "outputs": [
    {
     "output_type": "execute_result",
     "data": {
      "text/plain": "tensor([0, 0, 0, 0, 0, 1, 1, 1, 1, 1, 2, 2, 2, 2, 2, 3, 3, 3, 3, 3, 4, 4, 4, 4,\n        4])"
     },
     "metadata": {},
     "execution_count": 18
    }
   ],
   "source": [
    "batches, batch_labels = next(iter(batch_dataloader))\n",
    "batch_labels"
   ]
  },
  {
   "cell_type": "code",
   "execution_count": null,
   "metadata": {},
   "outputs": [],
   "source": []
  }
 ],
 "metadata": {
  "language_info": {
   "codemirror_mode": {
    "name": "ipython",
    "version": 3
   },
   "file_extension": ".py",
   "mimetype": "text/x-python",
   "name": "python",
   "nbconvert_exporter": "python",
   "pygments_lexer": "ipython3",
   "version": "3.8.3-final"
  },
  "orig_nbformat": 2,
  "kernelspec": {
   "name": "python38164bit66f7a8720ea44564891eb6b9b39e6c03",
   "display_name": "Python 3.8.1 64-bit"
  }
 },
 "nbformat": 4,
 "nbformat_minor": 2
}